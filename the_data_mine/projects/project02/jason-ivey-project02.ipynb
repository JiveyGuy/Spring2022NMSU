{
 "cells": [
  {
   "cell_type": "markdown",
   "id": "be02a957-7133-4d02-818e-fedeb3cecb05",
   "metadata": {},
   "source": [
    "# Project X -- Jason Ivey"
   ]
  },
  {
   "cell_type": "markdown",
   "id": "6180e742-8e39-4698-98ff-5b00c8cf8ea0",
   "metadata": {},
   "source": [
    "## Question 1"
   ]
  },
  {
   "cell_type": "code",
   "execution_count": 4,
   "id": "49445606-d363-41b4-b479-e319a9a84c01",
   "metadata": {},
   "outputs": [],
   "source": [
    "%%R\n",
    "myDF <- read.csv(\"/anvil/projects/tdm/data/flights/subset/1995.csv\", stringsAsFactors = TRUE)"
   ]
  },
  {
   "cell_type": "code",
   "execution_count": 5,
   "id": "07d7536c-f8ce-49e9-847b-d730f0abb637",
   "metadata": {},
   "outputs": [
    {
     "name": "stdout",
     "output_type": "stream",
     "text": [
      "  Year Month DayofMonth DayOfWeek DepTime CRSDepTime ArrTime CRSArrTime\n",
      "1 1995     1          6         5     657        645     952        937\n",
      "2 1995     1          7         6     648        645     938        937\n",
      "3 1995     1          8         7     649        645     932        937\n",
      "4 1995     1          9         1     645        645     928        937\n",
      "5 1995     1         10         2     645        645     931        937\n",
      "6 1995     1         11         3     646        645     929        937\n",
      "  UniqueCarrier FlightNum TailNum ActualElapsedTime CRSElapsedTime AirTime\n",
      "1            UA       482  N7298U               115            112      83\n",
      "2            UA       482  N7449U               110            112      88\n",
      "3            UA       482  N7453U               103            112      83\n",
      "4            UA       482  N7288U               103            112      84\n",
      "5            UA       482  N7275U               106            112      82\n",
      "6            UA       482  N7281U               103            112      85\n",
      "  ArrDelay DepDelay Origin Dest Distance TaxiIn TaxiOut Cancelled\n",
      "1       15       12    ORD  PHL      678      7      25         0\n",
      "2        1        3    ORD  PHL      678      5      17         0\n",
      "3       -5        4    ORD  PHL      678      3      17         0\n",
      "4       -9        0    ORD  PHL      678      3      16         0\n",
      "5       -6        0    ORD  PHL      678      6      18         0\n",
      "6       -8        1    ORD  PHL      678      5      13         0\n",
      "  CancellationCode Diverted CarrierDelay WeatherDelay NASDelay SecurityDelay\n",
      "1               NA        0           NA           NA       NA            NA\n",
      "2               NA        0           NA           NA       NA            NA\n",
      "3               NA        0           NA           NA       NA            NA\n",
      "4               NA        0           NA           NA       NA            NA\n",
      "5               NA        0           NA           NA       NA            NA\n",
      "6               NA        0           NA           NA       NA            NA\n",
      "  LateAircraftDelay\n",
      "1                NA\n",
      "2                NA\n",
      "3                NA\n",
      "4                NA\n",
      "5                NA\n",
      "6                NA\n"
     ]
    }
   ],
   "source": [
    "%%R\n",
    "head(myDF)"
   ]
  },
  {
   "cell_type": "code",
   "execution_count": 6,
   "id": "8fffde71-a93a-4fe8-8377-7089d97e827b",
   "metadata": {},
   "outputs": [
    {
     "name": "stdout",
     "output_type": "stream",
     "text": [
      "        Year Month DayofMonth DayOfWeek DepTime CRSDepTime ArrTime CRSArrTime\n",
      "5327430 1995    12         11         1    2220       2215    2337       2332\n",
      "5327431 1995    12         12         2    2217       2215    2332       2332\n",
      "5327432 1995    12         13         3    2216       2215    2355       2332\n",
      "5327433 1995    12         14         4    2215       2215    2341       2332\n",
      "5327434 1995    12         15         5    2236       2215    2348       2332\n",
      "5327435 1995    12         17         7    2215       2215    2328       2332\n",
      "        UniqueCarrier FlightNum TailNum ActualElapsedTime CRSElapsedTime\n",
      "5327430            TW       427   N959U               137            137\n",
      "5327431            TW       427  N9409F               135            137\n",
      "5327432            TW       427  N912TW               159            137\n",
      "5327433            TW       427  N902TW               146            137\n",
      "5327434            TW       427   N954U               132            137\n",
      "5327435            TW       427  N920TW               133            137\n",
      "        AirTime ArrDelay DepDelay Origin Dest Distance TaxiIn TaxiOut Cancelled\n",
      "5327430     122        5        5    STL  DEN      770      6       9         0\n",
      "5327431     118        0        2    STL  DEN      770      5      12         0\n",
      "5327432     129       23        1    STL  DEN      770      6      24         0\n",
      "5327433     125        9        0    STL  DEN      770      5      16         0\n",
      "5327434     114       16       21    STL  DEN      770      5      13         0\n",
      "5327435     111       -4        0    STL  DEN      770      6      16         0\n",
      "        CancellationCode Diverted CarrierDelay WeatherDelay NASDelay\n",
      "5327430               NA        0           NA           NA       NA\n",
      "5327431               NA        0           NA           NA       NA\n",
      "5327432               NA        0           NA           NA       NA\n",
      "5327433               NA        0           NA           NA       NA\n",
      "5327434               NA        0           NA           NA       NA\n",
      "5327435               NA        0           NA           NA       NA\n",
      "        SecurityDelay LateAircraftDelay\n",
      "5327430            NA                NA\n",
      "5327431            NA                NA\n",
      "5327432            NA                NA\n",
      "5327433            NA                NA\n",
      "5327434            NA                NA\n",
      "5327435            NA                NA\n"
     ]
    }
   ],
   "source": [
    "%%R\n",
    "tail(myDF)"
   ]
  },
  {
   "cell_type": "code",
   "execution_count": 7,
   "id": "8b1c8492-d643-4e85-9fd9-84acc87f3025",
   "metadata": {},
   "outputs": [
    {
     "name": "stdout",
     "output_type": "stream",
     "text": [
      "[1] 5327435      29\n"
     ]
    }
   ],
   "source": [
    "%%R\n",
    "dim(myDF)"
   ]
  },
  {
   "cell_type": "code",
   "execution_count": 8,
   "id": "424819ee-8d2a-4dc8-a54d-ac575dd26447",
   "metadata": {},
   "outputs": [
    {
     "name": "stdout",
     "output_type": "stream",
     "text": [
      "      Year          Month          DayofMonth      DayOfWeek    \n",
      " Min.   :1995   Min.   : 1.000   Min.   : 1.00   Min.   :1.000  \n",
      " 1st Qu.:1995   1st Qu.: 3.000   1st Qu.: 8.00   1st Qu.:2.000  \n",
      " Median :1995   Median : 6.000   Median :16.00   Median :4.000  \n",
      " Mean   :1995   Mean   : 6.473   Mean   :15.71   Mean   :3.954  \n",
      " 3rd Qu.:1995   3rd Qu.: 9.000   3rd Qu.:23.00   3rd Qu.:6.000  \n",
      " Max.   :1995   Max.   :12.000   Max.   :31.00   Max.   :7.000  \n",
      "                                                                \n",
      "    DepTime        CRSDepTime      ArrTime         CRSArrTime  \n",
      " Min.   :   1    Min.   :   0   Min.   :   1     Min.   :   0  \n",
      " 1st Qu.: 940    1st Qu.: 920   1st Qu.:1125     1st Qu.:1110  \n",
      " Median :1337    Median :1324   Median :1528     Median :1517  \n",
      " Mean   :1353    Mean   :1316   Mean   :1503     Mean   :1471  \n",
      " 3rd Qu.:1735    3rd Qu.:1720   3rd Qu.:1918     3rd Qu.:1909  \n",
      " Max.   :2400    Max.   :2359   Max.   :2400     Max.   :2400  \n",
      " NA's   :91905                  NA's   :102397                 \n",
      " UniqueCarrier       FlightNum         TailNum        ActualElapsedTime\n",
      " DL     : 884019   Min.   :   1.0   UNKNOW :  65072   Min.   :-406.0   \n",
      " US     : 778835   1st Qu.: 420.0   N67    :   3485   1st Qu.:  68.0   \n",
      " UA     : 724807   Median : 809.0   N89    :   3479   Median :  99.0   \n",
      " WN     : 693101   Mean   : 944.1   N83    :   3476   Mean   : 116.5   \n",
      " AA     : 688471   3rd Qu.:1470.0   N71    :   3474   3rd Qu.: 148.0   \n",
      " NW     : 521693   Max.   :9899.0   N103   :   3463   Max.   : 707.0   \n",
      " (Other):1036509                    (Other):5244986   NA's   :102397   \n",
      " CRSElapsedTime     AirTime           ArrDelay          DepDelay      \n",
      " Min.   :  0.0   Min.   :   1.00   Min.   :-972.00   Min.   :-150.00  \n",
      " 1st Qu.: 70.0   1st Qu.:  51.00   1st Qu.:  -6.00   1st Qu.:  -1.00  \n",
      " Median :100.0   Median :  79.00   Median :   1.00   Median :   0.00  \n",
      " Mean   :117.5   Mean   :  97.28   Mean   :   7.02   Mean   :   8.28  \n",
      " 3rd Qu.:149.0   3rd Qu.: 126.00   3rd Qu.:  11.00   3rd Qu.:   7.00  \n",
      " Max.   :912.0   Max.   :1204.00   Max.   :1348.00   Max.   :1439.00  \n",
      " NA's   :3249    NA's   :50349     NA's   :102397    NA's   :91905    \n",
      "     Origin             Dest            Distance          TaxiIn       \n",
      " ORD    : 293422   ORD    : 293472   Min.   :  11.0   Min.   :  0.000  \n",
      " DFW    : 268127   DFW    : 268159   1st Qu.: 316.0   1st Qu.:  3.000  \n",
      " ATL    : 230470   ATL    : 230485   Median : 545.0   Median :  5.000  \n",
      " LAX    : 179909   LAX    : 179950   Mean   : 695.5   Mean   :  5.442  \n",
      " STL    : 174847   STL    : 174846   3rd Qu.: 934.0   3rd Qu.:  6.000  \n",
      " PHX    : 157155   PHX    : 157158   Max.   :4502.0   Max.   :371.000  \n",
      " (Other):4023505   (Other):4023365   NA's   :5987                      \n",
      "    TaxiOut          Cancelled       CancellationCode    Diverted       \n",
      " Min.   :   0.00   Min.   :0.00000   Mode:logical     Min.   :0.000000  \n",
      " 1st Qu.:   9.00   1st Qu.:0.00000   NA's:5327435     1st Qu.:0.000000  \n",
      " Median :  12.00   Median :0.00000                    Median :0.000000  \n",
      " Mean   :  13.66   Mean   :0.01725                    Mean   :0.001969  \n",
      " 3rd Qu.:  16.00   3rd Qu.:0.00000                    3rd Qu.:0.000000  \n",
      " Max.   :1074.00   Max.   :1.00000                    Max.   :1.000000  \n",
      "                                                                        \n",
      " CarrierDelay   WeatherDelay   NASDelay       SecurityDelay  LateAircraftDelay\n",
      " Mode:logical   Mode:logical   Mode:logical   Mode:logical   Mode:logical     \n",
      " NA's:5327435   NA's:5327435   NA's:5327435   NA's:5327435   NA's:5327435     \n",
      "                                                                              \n",
      "                                                                              \n",
      "                                                                              \n",
      "                                                                              \n",
      "                                                                              \n"
     ]
    }
   ],
   "source": [
    "%%R\n",
    "summary(myDF)"
   ]
  },
  {
   "cell_type": "code",
   "execution_count": 9,
   "id": "c827d3d3-5618-4a6a-9bcd-504ecf971223",
   "metadata": {},
   "outputs": [
    {
     "name": "stdout",
     "output_type": "stream",
     "text": [
      "'data.frame':\t5327435 obs. of  29 variables:\n",
      " $ Year             : int  1995 1995 1995 1995 1995 1995 1995 1995 1995 1995 ...\n",
      " $ Month            : int  1 1 1 1 1 1 1 1 1 1 ...\n",
      " $ DayofMonth       : int  6 7 8 9 10 11 12 13 14 15 ...\n",
      " $ DayOfWeek        : int  5 6 7 1 2 3 4 5 6 7 ...\n",
      " $ DepTime          : int  657 648 649 645 645 646 NA 644 644 643 ...\n",
      " $ CRSDepTime       : int  645 645 645 645 645 645 645 645 645 645 ...\n",
      " $ ArrTime          : int  952 938 932 928 931 929 NA 953 938 940 ...\n",
      " $ CRSArrTime       : int  937 937 937 937 937 937 937 937 937 937 ...\n",
      " $ UniqueCarrier    : Factor w/ 10 levels \"AA\",\"AS\",\"CO\",..: 8 8 8 8 8 8 8 8 8 8 ...\n",
      " $ FlightNum        : int  482 482 482 482 482 482 482 482 482 482 ...\n",
      " $ TailNum          : Factor w/ 3508 levels \"112\",\"EI-BOM\",..: 2526 2561 2566 2511 2489 2498 3508 2467 2504 2484 ...\n",
      " $ ActualElapsedTime: int  115 110 103 103 106 103 NA 129 114 117 ...\n",
      " $ CRSElapsedTime   : int  112 112 112 112 112 112 112 112 112 112 ...\n",
      " $ AirTime          : int  83 88 83 84 82 85 45 110 94 99 ...\n",
      " $ ArrDelay         : int  15 1 -5 -9 -6 -8 NA 16 1 3 ...\n",
      " $ DepDelay         : int  12 3 4 0 0 1 NA -1 -1 -2 ...\n",
      " $ Origin           : Factor w/ 218 levels \"ABE\",\"ABQ\",\"ACK\",..: 157 157 157 157 157 157 157 157 157 157 ...\n",
      " $ Dest             : Factor w/ 218 levels \"ABE\",\"ABQ\",\"ACK\",..: 165 165 165 165 165 165 165 165 165 165 ...\n",
      " $ Distance         : int  678 678 678 678 678 678 678 678 678 678 ...\n",
      " $ TaxiIn           : int  7 5 3 3 6 5 6 5 5 3 ...\n",
      " $ TaxiOut          : int  25 17 17 16 18 13 10 14 15 15 ...\n",
      " $ Cancelled        : int  0 0 0 0 0 0 1 0 0 0 ...\n",
      " $ CancellationCode : logi  NA NA NA NA NA NA ...\n",
      " $ Diverted         : int  0 0 0 0 0 0 0 0 0 0 ...\n",
      " $ CarrierDelay     : logi  NA NA NA NA NA NA ...\n",
      " $ WeatherDelay     : logi  NA NA NA NA NA NA ...\n",
      " $ NASDelay         : logi  NA NA NA NA NA NA ...\n",
      " $ SecurityDelay    : logi  NA NA NA NA NA NA ...\n",
      " $ LateAircraftDelay: logi  NA NA NA NA NA NA ...\n"
     ]
    }
   ],
   "source": [
    "%%R\n",
    "str(myDF)"
   ]
  },
  {
   "cell_type": "code",
   "execution_count": 10,
   "id": "e451fabd-1629-4714-8f0b-8c3da6c831ed",
   "metadata": {},
   "outputs": [
    {
     "name": "stdout",
     "output_type": "stream",
     "text": [
      "[1] \"data.frame\"\n"
     ]
    }
   ],
   "source": [
    "%%R\n",
    "class(myDF)"
   ]
  },
  {
   "cell_type": "markdown",
   "id": "b456e57c-4a12-464b-999a-ef2df5af80c1",
   "metadata": {},
   "source": [
    "### How many columns does this dataframe have?\n",
    "    29\n",
    "\n",
    "### How many rows does this dataframe have? \n",
    "    \n",
    "    5327435\n",
    "\n",
    "### What type/s of data are in this dataframe (example: numerical values, and/or text strings, etc.)\n",
    "\n",
    "    numerical values\n",
    "    text strings\n",
    "    booleans\n",
    "    \n",
    "    "
   ]
  },
  {
   "cell_type": "markdown",
   "id": "fc601975-35ed-4680-a4e1-0273ee3cc047",
   "metadata": {},
   "source": [
    "## Question 2"
   ]
  },
  {
   "cell_type": "code",
   "execution_count": 11,
   "id": "a16336a1-1ef0-41e8-bc7c-49387db27497",
   "metadata": {},
   "outputs": [
    {
     "name": "stdout",
     "output_type": "stream",
     "text": [
      "    ORD     DFW     ATL     LAX     STL     PHX     DTW     MSP     CLT     DEN \n",
      " 293422  268127  230470  179909  174847  157155  147610  136436  131417  130327 \n",
      "    SFO     PIT     IAH     LAS     EWR     LGA     BOS     SEA     PHL     DCA \n",
      " 129137  126190  121029  112181  109592   99225   92852   92016   91577   86266 \n",
      "    SLC     CVG     MIA     MCO     CLE     BWI     SAN     OAK     HOU     MCI \n",
      "  84056   76629   70581   67900   66888   66154   65731   65541   57492   56727 \n",
      "    MEM     MSY     PDX     MDW     DAL     JFK     TPA     BNA     ONT     SJC \n",
      "  53388   49179   48049   47985   46570   46187   45782   43382   40062   39283 \n",
      "    CMH     SAT     IND     ABQ     AUS     SNA     SMF     FLL     IAD     GSO \n",
      "  38271   38060   37092   36871   36474   36159   36051   33641   33053   32676 \n",
      "    BUR     ELP     RDU     BDL     SDF     PBI     OKC     SJU     TUL     RNO \n",
      "  31472   28728   27642   25771   24094   22558   22077   21458   20795   20727 \n",
      "    BUF     ANC     TUS     OMA     ORF     JAX     BHM     MKE     LIT     ROC \n",
      "  19932   19040   18549   18215   18198   18184   18118   17172   16652   16130 \n",
      "    RIC     RSW     DAY     SYR     HNL     PVD     GEG     COS     ALB     BOI \n",
      "  15990   14990   14524   12592   12537   12530   12230   12077   11997   10174 \n",
      "    TYS     CHS     DSM     GRR     GSP     MDT     MAF     ABE     ICT     HSV \n",
      "   9509    9228    9177    9171    8835    8648    7512    7198    7051    6957 \n",
      "    SRQ     PNS     LBB     HPN     SAV     HRL     CAE     PWM     MOB (Other) \n",
      "   6863    6621    6338    6228    5763    5752    5714    5451    5378  229189 \n"
     ]
    }
   ],
   "source": [
    "%%R\n",
    "\n",
    "#takes the selected information from the dataframe and puts it into a new vector called `myairports`\n",
    "myairports <- myDF$Origin\n",
    "\n",
    "summary(myairports)"
   ]
  },
  {
   "cell_type": "code",
   "execution_count": 12,
   "id": "f1704acf-2081-41da-b8e0-80a253cf3427",
   "metadata": {},
   "outputs": [
    {
     "name": "stdout",
     "output_type": "stream",
     "text": [
      "  [1] ORD ORD ORD ORD ORD ORD ORD ORD ORD ORD ORD ORD ORD ORD ORD ORD ORD ORD\n",
      " [19] ORD ORD ORD ORD ORD ORD ORD ORD ORD ORD ORD ORD ORD ORD ORD ORD ORD ORD\n",
      " [37] ORD ORD ORD ORD ORD ORD ORD ORD ORD ORD ORD ORD ORD ORD ORD ORD ORD ORD\n",
      " [55] ORD ORD ORD ORD ORD ORD ORD ORD ORD ORD ORD ORD ORD ORD ORD ORD ORD ORD\n",
      " [73] ORD ORD ORD ORD ORD ORD ORD ORD ORD ORD ORD ORD ORD ORD ORD ORD ORD ORD\n",
      " [91] ORD ORD ORD ORD ORD ORD ORD ORD ORD ORD ORD ORD ORD ORD ORD ORD ORD ORD\n",
      "[109] ORD ORD ORD ORD ORD ORD ORD ORD ORD ORD ORD ORD ORD ORD ORD ORD ORD ORD\n",
      "[127] ORD ORD ORD ORD ORD ORD ORD ORD ORD ORD ORD ORD ORD ORD ORD ORD ORD ORD\n",
      "[145] ORD ORD ORD ORD ORD ORD ORD ORD ORD ORD ORD ORD ORD ORD ORD ORD ORD ORD\n",
      "[163] ORD ORD ORD ORD ORD ORD ORD ORD ORD ORD ORD ORD ORD ORD ORD ORD ORD ORD\n",
      "[181] ORD ORD ORD ORD ORD ORD ORD ORD ORD ORD ORD ORD ORD ORD ORD ORD ORD ORD\n",
      "[199] ORD ORD ORD ORD ORD ORD ORD ORD ORD ORD ORD ORD ORD ORD ORD ORD ORD ORD\n",
      "[217] ORD ORD ORD ORD ORD ORD ORD ORD ORD ORD ORD ORD ORD ORD ORD ORD ORD ORD\n",
      "[235] ORD ORD ORD ORF ORF ORF ORF ORF ORF ORF ORF ORF ORF ORF ORF ORF\n",
      "218 Levels: ABE ABQ ACK ADQ AGS AKN ALB AMA ANC ANI ATL AUS AVL AVP AZO ... YAK\n"
     ]
    }
   ],
   "source": [
    "%%R\n",
    "head(myairports, n = 250)"
   ]
  },
  {
   "cell_type": "code",
   "execution_count": 13,
   "id": "a91fa417-d5e1-4665-b5f2-f98c9a528677",
   "metadata": {},
   "outputs": [
    {
     "name": "stdout",
     "output_type": "stream",
     "text": [
      "ORD \n",
      "237 \n"
     ]
    }
   ],
   "source": [
    "%%R\n",
    "table(head(myairports, n = 250))[\"ORD\"]"
   ]
  },
  {
   "cell_type": "code",
   "execution_count": 14,
   "id": "62bf713c-8a07-4678-8ae7-9ab30f1631fa",
   "metadata": {},
   "outputs": [
    {
     "name": "stdout",
     "output_type": "stream",
     "text": [
      "   ORD \n",
      "293422 \n"
     ]
    }
   ],
   "source": [
    "%%R\n",
    "table(myairports)[\"ORD\"]"
   ]
  },
  {
   "cell_type": "markdown",
   "id": "14dc22d4-ddc3-41cc-a91a-cb0025bc0c80",
   "metadata": {},
   "source": [
    "A) This is a factor with 3 letter airport code 218 values\n",
    "\n",
    "B) 237\n",
    "\n",
    "C) 293422"
   ]
  },
  {
   "cell_type": "markdown",
   "id": "8e586edd-ff26-4ce2-8f6b-2424b26f2929",
   "metadata": {},
   "source": [
    "## Question 3"
   ]
  },
  {
   "cell_type": "code",
   "execution_count": 15,
   "id": "0153fd83-d420-4583-9472-b463f363a68a",
   "metadata": {},
   "outputs": [
    {
     "name": "stdout",
     "output_type": "stream",
     "text": [
      "  IND \n",
      "37092 \n"
     ]
    }
   ],
   "source": [
    "%%R\n",
    "table(myDF$Origin)[\"IND\"]"
   ]
  },
  {
   "cell_type": "code",
   "execution_count": 16,
   "id": "bbe0f40d-9655-4653-9ca8-886bdb61cb91",
   "metadata": {},
   "outputs": [
    {
     "name": "stdout",
     "output_type": "stream",
     "text": [
      "  IND \n",
      "37103 \n"
     ]
    }
   ],
   "source": [
    "%%R\n",
    "table(myDF$Dest)[\"IND\"]"
   ]
  },
  {
   "cell_type": "code",
   "execution_count": 17,
   "id": "584b7738-69cc-4dad-99f5-6dcbf2efcf7f",
   "metadata": {},
   "outputs": [
    {
     "name": "stdout",
     "output_type": "stream",
     "text": [
      "[1] PVD\n",
      "218 Levels: ABE ABQ ACK ADQ AGS AKN ALB AMA ANC ANI ATL AUS AVL AVP AZO ... YAK\n"
     ]
    }
   ],
   "source": [
    "%%R\n",
    "myDF[894,]$Origin"
   ]
  },
  {
   "cell_type": "code",
   "execution_count": 18,
   "id": "bb6537aa-fa9f-4fb9-b9d6-568533cca2ea",
   "metadata": {},
   "outputs": [
    {
     "name": "stdout",
     "output_type": "stream",
     "text": [
      "[1] PHL\n",
      "218 Levels: ABE ABQ ACK ADQ AGS AKN ALB AMA ANC ANI ATL ATW AUS AVL AVP ... YAK\n"
     ]
    }
   ],
   "source": [
    "%%R\n",
    "myDF[894,]$Dest"
   ]
  },
  {
   "cell_type": "code",
   "execution_count": 19,
   "id": "6613591c-f02b-4934-adc5-6128a82c4507",
   "metadata": {},
   "outputs": [
    {
     "name": "stdout",
     "output_type": "stream",
     "text": [
      "[1] 475141\n"
     ]
    }
   ],
   "source": [
    "%%R\n",
    "longdistances = myDF$Distance[myDF$Distance < 200]\n",
    "length(longdistances)"
   ]
  },
  {
   "cell_type": "markdown",
   "id": "47c6229f-35f7-400c-8366-c442baa5cf47",
   "metadata": {},
   "source": [
    "# A) How many flights departed from Indianapolis (IND) in 1995? How many flights landed there?\n",
    "\n",
    "    departed: 30792 arrived: 37103\n",
    "\n",
    "# B) Consider the flight data from row 894 the data frame. What airport did it depart from? Where did it arrive?\n",
    "    \n",
    "    departed: PVD arrived: PHL\n",
    "\n",
    "# C) How many flights have a distance of less than 200 miles?\n",
    "    \n",
    "    475141"
   ]
  },
  {
   "cell_type": "markdown",
   "id": "da22f29c-d245-4d2b-9fc1-ca14cb6087d9",
   "metadata": {},
   "source": [
    "## Question 4"
   ]
  },
  {
   "cell_type": "code",
   "execution_count": 20,
   "id": "8cffc767-d1c8-4d64-b7dc-f0d2ee8a80d1",
   "metadata": {},
   "outputs": [
    {
     "name": "stdout",
     "output_type": "stream",
     "text": [
      "\n",
      "    DL     US     UA     WN     AA     NW     CO     TW     HP     AS \n",
      "884019 778835 724807 693101 688471 521693 434425 272452 194508 135124 \n"
     ]
    }
   ],
   "source": [
    "%%R\n",
    "sort(table(myDF$UniqueCarrier), decreasing=TRUE)"
   ]
  },
  {
   "cell_type": "code",
   "execution_count": 21,
   "id": "b31fd305-c807-4696-a5d1-c8a3ed232904",
   "metadata": {},
   "outputs": [
    {
     "name": "stdout",
     "output_type": "stream",
     "text": [
      "\n",
      "    DL     US     UA \n",
      "884019 778835 724807 \n"
     ]
    }
   ],
   "source": [
    "%%R\n",
    "head(sort(table(myDF$UniqueCarrier), decreasing=TRUE), n = 3)"
   ]
  },
  {
   "cell_type": "code",
   "execution_count": 22,
   "id": "3d4a573c-f9fe-470c-b96f-75e3aaf5b712",
   "metadata": {},
   "outputs": [
    {
     "name": "stdout",
     "output_type": "stream",
     "text": [
      "\n",
      " N67  N89  N83  N71 N103  N68 N102  N91  N59  N64 \n",
      "3485 3479 3476 3474 3463 3458 3448 3448 3447 3434 \n"
     ]
    }
   ],
   "source": [
    "%%R\n",
    "head(sort(table(myDF$TailNum), decreasing=TRUE), n = 11)[2:11]"
   ]
  },
  {
   "cell_type": "markdown",
   "id": "0d552245-b4d6-474a-9cc9-fa7b8e674d55",
   "metadata": {},
   "source": [
    "# A) Rank the airline companies (in the column myDF$UniqueCarrier) according to their popularity, i.e., according to the number of flights on each airline).\n",
    "\n",
    "DL     US     UA     WN     AA     NW     CO     TW     HP     AS\n",
    "\n",
    "# B) Which are the three most popular airlines from 1995?\n",
    "\n",
    "DL     US     UA \n",
    "\n",
    "# C) Now find the ten airplanes that had the most flights in 1995. List them in order, from most popular to least popular. Do you notice anything unusual about the results?\n",
    "\n",
    " N67  N89  N83  N71 N103  N68 N102  N91  N59  N64 "
   ]
  },
  {
   "cell_type": "markdown",
   "id": "88c9cdac-3e92-498f-83fa-e089bfc44ac8",
   "metadata": {},
   "source": [
    "## Question 5"
   ]
  },
  {
   "cell_type": "code",
   "execution_count": 24,
   "id": "d370d7c9-06db-42b9-b75f-240481a5c491",
   "metadata": {},
   "outputs": [
    {
     "data": {
      "image/png": "[encoded data removed]"
     },
     "metadata": {},
     "output_type": "display_data"
    }
   ],
   "source": [
    "%%R\n",
    "library(data.table)\n",
    "\n",
    "top_10_airport_arivals = head(sort(table(myDF$Dest), decreasing=TRUE), n=10)\n",
    "top_10_airport_departures = head(sort(table(myDF$Origin), decreasing=TRUE), n=10)\n",
    "\n",
    "ratio_dept_arrival = top_10_airport_arivals/top_10_airport_departures[rep(1, nrow(top_10_airport_arivals))]\n",
    "dotchart(rev(ratio_dept_arrival))\n",
    "\n"
   ]
  },
  {
   "cell_type": "markdown",
   "id": "9fbf00fb-2418-460f-ae94-2a32b0c28952",
   "metadata": {},
   "source": [
    "# Pick a column of data that you are interested in studying, or a question that you want answered. Create either a plot, or a dotchart. Before making the plot, think about how many dots will be displayed on your plot or dotchart. If you try to display millions of dots, you might cause your Jupyter Lab session to freeze or crash. It is useful to think ahead and to consider how your plot might look, before you accidentally try to display millions of dots.\n",
    "\n",
    "    My Question: what is the ratio of inbound and outbound flights for the top 10 airports\n",
    "\n",
    "# Descibe any patterns you may see in your plot or your dotchart. If there are none, that is okay, and you can just write \"there seem to be no patterns.\n",
    "\n",
    "    We can see a clear pattern that more popular airports have more arrivals than departures. This could be for many reasons but the underlying one is that more planes fly in than out of ORD. \n"
   ]
  },
  {
   "cell_type": "markdown",
   "id": "f76442d6-d02e-4f26-b9d6-c3183e1d6929",
   "metadata": {},
   "source": [
    "## Pledge\n",
    "\n",
    "By submitting this work I hereby pledge that this is my own, personal work. I've acknowledged in the designated place at the top of this file all sources that I used to complete said work, including but not limited to: online resources, books, and electronic communications. I've noted all collaboration with fellow students and/or TA's. I did not copy or plagiarize another's work.\n",
    "\n",
    "> As a Boilermaker pursuing academic excellence, I pledge to be honest and true in all that I do. Accountable together – We are Purdue."
   ]
  }
 ],
 "metadata": {
  "kernelspec": {
   "display_name": "f2022-s2023",
   "language": "python",
   "name": "f2022-s2023"
  },
  "language_info": {
   "codemirror_mode": {
    "name": "ipython",
    "version": 3
   },
   "file_extension": ".py",
   "mimetype": "text/x-python",
   "name": "python",
   "nbconvert_exporter": "python",
   "pygments_lexer": "ipython3",
   "version": "3.10.7"
  }
 },
 "nbformat": 4,
 "nbformat_minor": 5
}
